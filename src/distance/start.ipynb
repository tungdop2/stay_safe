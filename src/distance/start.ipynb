{
 "cells": [
  {
   "cell_type": "code",
   "execution_count": 8,
   "metadata": {},
   "outputs": [],
   "source": [
    "import cv2\n",
    "import os\n",
    "import numpy as np"
   ]
  },
  {
   "cell_type": "code",
   "execution_count": 9,
   "metadata": {},
   "outputs": [],
   "source": [
    "import cv2\n",
    "import numpy as np\n",
    "\n",
    "def four_point_transform(image, pts):\n",
    "    (tl, tr, br, bl) = pts[:4]\n",
    "\n",
    "    widthA = np.sqrt(((br[0] - bl[0]) ** 2) + ((br[1] - bl[1]) ** 2))\n",
    "    widthB = np.sqrt(((tr[0] - tl[0]) ** 2) + ((tr[1] - tl[1]) ** 2))\n",
    "    maxWidth = max(int(widthA), int(widthB))\n",
    "\n",
    "    heightA = np.sqrt(((tr[0] - br[0]) ** 2) + ((tr[1] - br[1]) ** 2))\n",
    "    heightB = np.sqrt(((tl[0] - bl[0]) ** 2) + ((tl[1] - bl[1]) ** 2))\n",
    "    maxHeight = max(int(heightA), int(heightB))\n",
    "\n",
    "    dst = np.array([[0, 0],\n",
    "                    [maxWidth - 1, 0],\n",
    "                    [maxWidth - 1, maxHeight - 1],\n",
    "                    [0, maxHeight - 1]], dtype=\"float32\")\n",
    "\n",
    "    M = cv2.getPerspectiveTransform(pts[:4], dst)\n",
    "    # or use this function\n",
    "    # M = cv2.findHomography(pts, dst)[0]\n",
    "    \n",
    "    w, h = pts[4:6]\n",
    "    bl = cv2.perspectiveTransform(np.array([[bl]]), M)[0][0]\n",
    "    h = cv2.perspectiveTransform(np.array([[h]]), M)[0][0]\n",
    "    w = cv2.perspectiveTransform(np.array([[w]]), M)[0][0]\n",
    "    h = np.sqrt(((h[0] - bl[0]) ** 2) + ((h[1] - bl[1]) ** 2))\n",
    "    w = np.sqrt(((w[0] - bl[0]) ** 2) + ((w[1] - bl[1]) ** 2))\n",
    "    # convert all image\n",
    "    warped = cv2.warpPerspective(image, M, image.shape[:2][::-1])\n",
    "\n",
    "    # return warped\n",
    "    return M, warped, w, h\n",
    "\n",
    "# define 4 points for ROI\n",
    "\n",
    "\n",
    "def selectROI(event, x, y, flags, param):\n",
    "    global imagetmp, roiPts, ct\n",
    "\n",
    "    if event == cv2.EVENT_LBUTTONDOWN:\n",
    "        roiPts[ct] = np.array([x, y], dtype=\"float32\")\n",
    "        ct += 1\n",
    "        cv2.circle(imagetmp, (x, y), 2, (0, 255, 0) if ct < 4 else (0, 0, 255), -1)\n",
    "        # cv2.imshow(\"image\", imagetmp)\n",
    "        if ct == 4:\n",
    "            cv2.line(imagetmp, (int(roiPts[0][0]), int(roiPts[0][1])), (int(roiPts[1][0]), int(roiPts[1][1])), (0, 255, 0), 2)\n",
    "            cv2.line(imagetmp, (int(roiPts[1][0]), int(roiPts[1][1])), (int(roiPts[2][0]), int(roiPts[2][1])), (0, 255, 0), 2)\n",
    "            cv2.line(imagetmp, (int(roiPts[2][0]), int(roiPts[2][1])), (int(roiPts[3][0]), int(roiPts[3][1])), (0, 255, 0), 2)\n",
    "            cv2.line(imagetmp, (int(roiPts[3][0]), int(roiPts[3][1])), (int(roiPts[0][0]), int(roiPts[0][1])), (0, 255, 0), 2)\n",
    "\n",
    "        cv2.imshow(\"image\", imagetmp)\n"
   ]
  },
  {
   "cell_type": "code",
   "execution_count": 10,
   "metadata": {},
   "outputs": [],
   "source": [
    "import matplotlib.pyplot as plt\n",
    "from matplotlib.animation import FuncAnimation, PillowWriter\n",
    "from IPython import display"
   ]
  },
  {
   "cell_type": "code",
   "execution_count": 11,
   "metadata": {},
   "outputs": [],
   "source": [
    "global imagetmp, roiPts, ct\n",
    "roiPts = np.zeros((6, 2), dtype=\"float32\")\n",
    "ct = 0\n",
    "\n",
    "vid = cv2.VideoCapture('1.mp4')\n",
    "# image = cv2.imread(\"1.jpg\")\n",
    "image = vid.read()[1]\n",
    "cv2.imwrite(\"2.jpg\", image)\n",
    "# imagetmp = cv2.resize(image, (600, 600))\n",
    "imagetmp = image.copy()\n",
    "cv2.namedWindow(\"image\")\n",
    "cv2.setMouseCallback(\"image\", selectROI)\n",
    "\n",
    "M = None\n",
    "warped = None\n",
    "while ct < 6:\n",
    "    cv2.imshow(\"image\", imagetmp)\n",
    "    cv2.waitKey(500)\n",
    "cv2.destroyAllWindows()\n",
    "\n",
    "M, warped, w, h = four_point_transform(imagetmp, roiPts)\n",
    "cv2.imshow(\"warped\", warped)\n",
    "cv2.waitKey(0)\n",
    "cv2.destroyAllWindows()"
   ]
  },
  {
   "cell_type": "code",
   "execution_count": 12,
   "metadata": {},
   "outputs": [
    {
     "data": {
      "text/plain": [
       "array([[ 1.61315154e+00, -1.34169277e-01, -7.78490707e+02],\n",
       "       [-3.49815098e-02,  1.78988725e+00, -5.63843635e+01],\n",
       "       [-7.86822425e-05,  1.26031381e-03,  1.00000000e+00]])"
      ]
     },
     "execution_count": 12,
     "metadata": {},
     "output_type": "execute_result"
    }
   ],
   "source": [
    "M"
   ]
  },
  {
   "cell_type": "code",
   "execution_count": 13,
   "metadata": {},
   "outputs": [
    {
     "data": {
      "text/plain": [
       "86.24348554628749"
      ]
     },
     "execution_count": 13,
     "metadata": {},
     "output_type": "execute_result"
    }
   ],
   "source": [
    "w"
   ]
  },
  {
   "cell_type": "code",
   "execution_count": 14,
   "metadata": {},
   "outputs": [
    {
     "data": {
      "text/plain": [
       "48.474921984338046"
      ]
     },
     "execution_count": 14,
     "metadata": {},
     "output_type": "execute_result"
    }
   ],
   "source": [
    "h"
   ]
  },
  {
   "cell_type": "code",
   "execution_count": null,
   "metadata": {},
   "outputs": [],
   "source": []
  }
 ],
 "metadata": {
  "interpreter": {
   "hash": "26d6d95e799f68a0680bea77b17a4e3218da601be7d02863e2950dbe63a5be85"
  },
  "kernelspec": {
   "display_name": "Python 3.9.5 ('base')",
   "language": "python",
   "name": "python3"
  },
  "language_info": {
   "codemirror_mode": {
    "name": "ipython",
    "version": 3
   },
   "file_extension": ".py",
   "mimetype": "text/x-python",
   "name": "python",
   "nbconvert_exporter": "python",
   "pygments_lexer": "ipython3",
   "version": "3.9.5"
  },
  "orig_nbformat": 4
 },
 "nbformat": 4,
 "nbformat_minor": 2
}
